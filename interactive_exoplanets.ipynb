{
 "cells": [
  {
   "cell_type": "markdown",
   "metadata": {},
   "source": [
    "## Interactive plots demo using NASA Exoplanet Archive"
   ]
  },
  {
   "cell_type": "markdown",
   "metadata": {},
   "source": [
    "#### This tutorial will show you how to plot up an interactive exoplanet mass-radius diagram using bokeh or altair."
   ]
  },
  {
   "cell_type": "code",
   "execution_count": null,
   "metadata": {},
   "outputs": [],
   "source": [
    "import numpy as np"
   ]
  },
  {
   "cell_type": "markdown",
   "metadata": {},
   "source": [
    "First we'll grab some data about known (confirmed) exoplanets from the [NASA Exoplanet Archive](https://exoplanetarchive.ipac.caltech.edu/index.html):"
   ]
  },
  {
   "cell_type": "code",
   "execution_count": null,
   "metadata": {},
   "outputs": [],
   "source": [
    "from get_data import get_confirmed_planets\n",
    "exoplanet_archive_table = get_confirmed_planets(select=\"*\")"
   ]
  },
  {
   "cell_type": "code",
   "execution_count": null,
   "metadata": {},
   "outputs": [],
   "source": [
    "exoplanet_archive_table.colnames"
   ]
  },
  {
   "cell_type": "markdown",
   "metadata": {},
   "source": [
    "### Making an interactive mass-radius diagram with bokeh"
   ]
  },
  {
   "cell_type": "markdown",
   "metadata": {},
   "source": [
    "Filter out all the planets with no known mass/radius, which are denoted with zeroes in the table:"
   ]
  },
  {
   "cell_type": "code",
   "execution_count": null,
   "metadata": {},
   "outputs": [],
   "source": [
    "filter = (exoplanet_archive_table['pl_bmasse'] > 0.0) \\\n",
    "        & (exoplanet_archive_table['pl_rade'] > 0.0)"
   ]
  },
  {
   "cell_type": "code",
   "execution_count": null,
   "metadata": {},
   "outputs": [],
   "source": [
    "print(\"There are {0} confirmed planets with measured mass + radius.\".format(\n",
    "    len(exoplanet_archive_table[filter])))"
   ]
  },
  {
   "cell_type": "markdown",
   "metadata": {},
   "source": [
    "Now load up bokeh:"
   ]
  },
  {
   "cell_type": "code",
   "execution_count": null,
   "metadata": {},
   "outputs": [],
   "source": [
    "from bokeh.plotting import ColumnDataSource, figure, show\n",
    "from bokeh.io import output_notebook\n",
    "output_notebook()"
   ]
  },
  {
   "cell_type": "markdown",
   "metadata": {},
   "source": [
    "First we have to make the data source. Fortunately, this is easy from an astropy table -- all we have to do is make it a pandas dataframe with `.to_pandas()` and bokeh can handle the rest. We'll do that using the filtered table."
   ]
  },
  {
   "cell_type": "code",
   "execution_count": null,
   "metadata": {},
   "outputs": [],
   "source": [
    "table = exoplanet_archive_table[filter]\n",
    "source = ColumnDataSource(table.to_pandas())"
   ]
  },
  {
   "cell_type": "markdown",
   "metadata": {},
   "source": [
    "The first step is to set up the figure characteristics. We'll enable a few basic interactive functionalities here, as well as setting the axis ranges."
   ]
  },
  {
   "cell_type": "code",
   "execution_count": null,
   "metadata": {},
   "outputs": [],
   "source": [
    "fig = figure(tools=\"pan,wheel_zoom,box_zoom,reset\", active_scroll=\"wheel_zoom\",\n",
    "            x_axis_type=\"linear\", x_range=[0.0, 20.0], y_range=[0.0,5.0])"
   ]
  },
  {
   "cell_type": "markdown",
   "metadata": {},
   "source": [
    "Now we can add features to the plot using the column names in the data source. To see what the figure looks like at any point, just do `show(fig)`."
   ]
  },
  {
   "cell_type": "code",
   "execution_count": null,
   "metadata": {},
   "outputs": [],
   "source": [
    "pl_render = fig.circle('pl_bmasse','pl_rade', source=source, size=10)\n",
    "show(fig)"
   ]
  },
  {
   "cell_type": "markdown",
   "metadata": {},
   "source": [
    "Not bad! We can scroll around and zoom in and out. But what if we want more functionality? Let's add some tooltips to tell us more about the planets on hover."
   ]
  },
  {
   "cell_type": "code",
   "execution_count": null,
   "metadata": {},
   "outputs": [],
   "source": [
    "from bokeh.models import HoverTool\n",
    "hover = HoverTool(renderers=[pl_render],\n",
    "                    tooltips=[\n",
    "        (\"name\", \"@pl_name\"),\n",
    "        (\"mass\", \"@pl_bmasse{1.11} Earth masses\"),\n",
    "        (\"radius\", \"@pl_rade{1.11} Earth masses\"),\n",
    "        (\"discovered by\", \"@pl_discmethod\")\n",
    "        ]\n",
    "    )\n",
    "fig.add_tools(hover)"
   ]
  },
  {
   "cell_type": "code",
   "execution_count": null,
   "metadata": {},
   "outputs": [],
   "source": [
    "show(fig)"
   ]
  },
  {
   "cell_type": "markdown",
   "metadata": {},
   "source": [
    "One issue here is that we haven't included any uncertainty estimates. These are pretty important, especially once we get down to the smallest planets. \n",
    "\n",
    "Let's adjust the points so that opacity scales with the inverse variance. This will draw the viewer's eye to the best-measured planets."
   ]
  },
  {
   "cell_type": "code",
   "execution_count": null,
   "metadata": {},
   "outputs": [],
   "source": [
    "err_scale = (table['pl_masseerr1'] + table['pl_masseerr2'])**2/table['pl_bmasse']**2 \\\n",
    "                    + (table['pl_radeerr1'] + table['pl_radeerr2'])**2/table['pl_rade']**2 \n",
    "err_weight = np.exp(-err_scale**0.15) # trial & error"
   ]
  },
  {
   "cell_type": "code",
   "execution_count": null,
   "metadata": {},
   "outputs": [],
   "source": [
    "source.add(err_weight, name='err_weight')\n",
    "pl_render.data_source = source # update source\n",
    "pl_render.glyph.fill_alpha = 'err_weight'"
   ]
  },
  {
   "cell_type": "markdown",
   "metadata": {},
   "source": [
    "We'll also render error bars and apply the same opacity to them. (There may be a more elegant way to do this, but this one works!)"
   ]
  },
  {
   "cell_type": "code",
   "execution_count": null,
   "metadata": {},
   "outputs": [],
   "source": [
    "r_err_xs, r_err_ys = [], []\n",
    "m_err_xs, m_err_ys = [], []\n",
    "for pl in table:\n",
    "    m = pl['pl_bmasse']\n",
    "    r = pl['pl_rade']\n",
    "    r_err_xs.append((m, m))\n",
    "    r_err_ys.append((r + pl['pl_radeerr1'], r + pl['pl_radeerr2']))\n",
    "    m_err_xs.append((m + pl['pl_masseerr1'], m + pl['pl_masseerr2']))\n",
    "    m_err_ys.append((r, r))\n",
    "fig.multi_line(r_err_xs, r_err_ys, line_alpha=err_weight)\n",
    "fig.multi_line(m_err_xs, m_err_ys, line_alpha=err_weight)"
   ]
  },
  {
   "cell_type": "markdown",
   "metadata": {},
   "source": [
    "We can also adjust the axis labels, toolbar location, etc:"
   ]
  },
  {
   "cell_type": "code",
   "execution_count": null,
   "metadata": {},
   "outputs": [],
   "source": [
    "fig.xaxis.axis_label = 'Mass (Earth Masses)'\n",
    "fig.yaxis.axis_label = 'Radius (Earth Radii)'\n",
    "fig.xaxis.axis_label_text_font_size = '14pt'\n",
    "fig.xaxis.major_label_text_font_size = '12pt'\n",
    "fig.yaxis.axis_label_text_font_size = '14pt'   \n",
    "fig.yaxis.major_label_text_font_size = '12pt' \n",
    "fig.toolbar_location = \"above\""
   ]
  },
  {
   "cell_type": "code",
   "execution_count": null,
   "metadata": {},
   "outputs": [],
   "source": [
    "show(fig)"
   ]
  },
  {
   "cell_type": "markdown",
   "metadata": {},
   "source": [
    "Getting even fancier, let's make it so that clicking (or touch-tapping) takes you to a webpage for the planet:"
   ]
  },
  {
   "cell_type": "code",
   "execution_count": null,
   "metadata": {},
   "outputs": [],
   "source": [
    "from bokeh.models import TapTool, OpenURL\n",
    "fig.add_tools(TapTool())\n",
    "url = \"@pl_pelink\"\n",
    "taptool = fig.select(type=TapTool)\n",
    "taptool.callback = OpenURL(url=url)"
   ]
  },
  {
   "cell_type": "code",
   "execution_count": null,
   "metadata": {},
   "outputs": [],
   "source": [
    "show(fig)"
   ]
  },
  {
   "cell_type": "markdown",
   "metadata": {},
   "source": [
    "If you want to save this plot to disk as an html file, you can do so like this:"
   ]
  },
  {
   "cell_type": "code",
   "execution_count": null,
   "metadata": {},
   "outputs": [],
   "source": [
    "from bokeh.plotting import output_file, save\n",
    "output_file('bokeh_massradius.html')\n",
    "save(fig)"
   ]
  },
  {
   "cell_type": "markdown",
   "metadata": {},
   "source": [
    "This html file is ready to host on the web. You can view a similar plot online at [bedell.space/dataviz/mr.html](http://bedell.space/dataviz/mr.html). Try viewing it on your phone or tablet to see how it works on mobile!"
   ]
  },
  {
   "cell_type": "markdown",
   "metadata": {},
   "source": [
    "### Linking interactive plots with altair"
   ]
  },
  {
   "cell_type": "markdown",
   "metadata": {},
   "source": [
    "Let's remake this basic plot in altair. It requires a bit less figure initialization to get started."
   ]
  },
  {
   "cell_type": "code",
   "execution_count": null,
   "metadata": {},
   "outputs": [],
   "source": [
    "import altair as alt\n",
    "table.add_column(err_weight, name='err_weight')\n",
    "data = table.to_pandas()"
   ]
  },
  {
   "cell_type": "code",
   "execution_count": null,
   "metadata": {},
   "outputs": [],
   "source": [
    "alt.renderers.enable('notebook')"
   ]
  },
  {
   "cell_type": "code",
   "execution_count": null,
   "metadata": {},
   "outputs": [],
   "source": [
    "points = alt.Chart(data).mark_point().encode(\n",
    "    x='pl_bmasse:Q',\n",
    "    y='pl_rade:Q',\n",
    "    opacity='err_weight:Q'\n",
    ").interactive()"
   ]
  },
  {
   "cell_type": "code",
   "execution_count": null,
   "metadata": {},
   "outputs": [],
   "source": [
    "points"
   ]
  },
  {
   "cell_type": "markdown",
   "metadata": {},
   "source": [
    "That was easy! Note that we did have to give altair [a data type](https://altair-viz.github.io/user_guide/encoding.html#data-types) in the form of the `:Q` (for quantitative, i.e. a non-discrete number), but otherwise it was able to infer information from the pandas dataframe pretty well and construct a nice plot with minimal setup.\n",
    "\n",
    "In the above code, we were taking advantage of the built-in [shorthand](https://altair-viz.github.io/user_guide/encoding.html#encoding-shorthands) in altair. We can customize the appearance of the plot more by explicitly calling `alt.X`, `alt.Y`, etc., and changing the keyword arguments."
   ]
  },
  {
   "cell_type": "code",
   "execution_count": null,
   "metadata": {},
   "outputs": [],
   "source": [
    "points = alt.Chart(data).mark_point(clip=True, filled=True).encode(\n",
    "    x=alt.X('pl_bmasse:Q', scale=alt.Scale(domain=(0, 20)),\n",
    "           axis=alt.Axis(title='Mass (Earth Masses)')),\n",
    "    y=alt.Y('pl_rade:Q', scale=alt.Scale(domain=(0, 5)),\n",
    "           axis=alt.Axis(title='Radius (Earth Radii)')),\n",
    "    opacity=alt.Opacity('err_weight:Q', legend=None)\n",
    ").interactive()"
   ]
  },
  {
   "cell_type": "code",
   "execution_count": null,
   "metadata": {},
   "outputs": [],
   "source": [
    "points"
   ]
  },
  {
   "cell_type": "markdown",
   "metadata": {},
   "source": [
    "And let's add our error bars back in to finish it out. Here we're going to define some additional charts and [layer](https://altair-viz.github.io/user_guide/compound_charts.html#layer-chart) them on top using the `+` operator."
   ]
  },
  {
   "cell_type": "code",
   "execution_count": null,
   "metadata": {},
   "outputs": [],
   "source": [
    "data['mass_err1'] = data['pl_bmasse'] + data['pl_masseerr1']\n",
    "data['mass_err2'] = data['pl_bmasse'] + data['pl_masseerr2']\n",
    "data['rad_err1'] = data['pl_rade'] + data['pl_radeerr1']\n",
    "data['rad_err2'] = data['pl_rade'] + data['pl_radeerr2']"
   ]
  },
  {
   "cell_type": "code",
   "execution_count": null,
   "metadata": {},
   "outputs": [],
   "source": [
    "mass_error = alt.Chart(data).mark_rule().encode(\n",
    "    x='mass_err1:Q',\n",
    "    x2='mass_err2:Q',\n",
    "    y='pl_rade:Q',\n",
    "    color=alt.ColorValue('grey'),\n",
    "    opacity=alt.Opacity('err_weight:Q', legend=None)\n",
    ")\n",
    "\n",
    "rad_error = alt.Chart(data).mark_rule().encode(\n",
    "    x='pl_bmasse:Q',\n",
    "    y='rad_err1:Q',\n",
    "    y2='rad_err2:Q',\n",
    "    color=alt.ColorValue('grey'),\n",
    "    opacity=alt.Opacity('err_weight:Q', legend=None)\n",
    ")\n",
    "\n",
    "mass_error + rad_error + points"
   ]
  },
  {
   "cell_type": "markdown",
   "metadata": {},
   "source": [
    "Now let's move on to my favorite part of altair: linking across charts! With this capability, we can define a selection brush that acts on any panel of a multi-panel plot, and the data points selected in one panel will be highlighted in the others.\n",
    "\n",
    "To test this out, let's make an H-R diagram of the exoplanet host stars and link it to our mass-radius plot."
   ]
  },
  {
   "cell_type": "code",
   "execution_count": null,
   "metadata": {},
   "outputs": [],
   "source": [
    "data['st_abs_mag'] = data['gaia_gmag'] - 5.*(np.log10(data['gaia_dist']) - 1.)"
   ]
  },
  {
   "cell_type": "code",
   "execution_count": null,
   "metadata": {},
   "outputs": [],
   "source": [
    "brush = alt.selection(type='interval', resolve='global')\n",
    "\n",
    "planets = alt.Chart(data).mark_point(clip=True, filled=True, size=28).encode(\n",
    "    x=alt.X('pl_bmasse:Q', scale=alt.Scale(domain=(0, 20)),\n",
    "           axis=alt.Axis(title='Mass (Earth Masses)')),\n",
    "    y=alt.Y('pl_rade:Q', scale=alt.Scale(domain=(0, 5)),\n",
    "           axis=alt.Axis(title='Radius (Earth Radii)')),\n",
    "    opacity=alt.Opacity('err_weight:Q', legend=None),\n",
    "    color=alt.condition(brush, alt.ColorValue('blue'), alt.ColorValue('gray'))\n",
    ").properties(\n",
    "    selection=brush,\n",
    "    width=300,\n",
    "    height=300\n",
    ")\n",
    "\n",
    "\n",
    "stars = alt.Chart(data).mark_point(clip=True, filled=True, size=28).encode(\n",
    "    x=alt.X('st_teff:Q', scale=alt.Scale(domain=(12e3, 3e3)),\n",
    "           axis=alt.Axis(title='Effective Temperature (K)')),\n",
    "    y=alt.Y('st_abs_mag:Q', scale=alt.Scale(domain=(15, -5)),\n",
    "           axis=alt.Axis(title='Abs. G Magnitude')),\n",
    "    opacity=alt.condition(brush, alt.OpacityValue(1.), alt.OpacityValue(0.4)),\n",
    "    color=alt.condition(brush, alt.ColorValue('blue'), alt.ColorValue('gray'))\n",
    ").properties(\n",
    "    selection=brush,\n",
    "    width=300,\n",
    "    height=300\n",
    ")"
   ]
  },
  {
   "cell_type": "code",
   "execution_count": null,
   "metadata": {},
   "outputs": [],
   "source": [
    "planets | stars"
   ]
  },
  {
   "cell_type": "markdown",
   "metadata": {},
   "source": [
    "(Note that we're relying on there being a good effective temperature and distance for all the stars, which isn't always true - one possible improvement would be to use the Gaia Bp-Rp colors and Bailer-Jones Gaia distances to make a color-magnitude diagram. If you're feeling ambitious, you can pull the data needed from [gaia-kepler.fun](http://gaia-kepler.fun) and have at it!)"
   ]
  },
  {
   "cell_type": "markdown",
   "metadata": {},
   "source": [
    "It would be nice to pan around and also use the brush, but the keybindings (mousebindings?) conflict. We can actually change this with the \"on\" and \"translate\" keywords in the selection object. This isn't super obvious from the documentation, but if you open the chart in Vega Editor and poke around in the Javascript you can figure it out."
   ]
  },
  {
   "cell_type": "code",
   "execution_count": null,
   "metadata": {},
   "outputs": [],
   "source": [
    "brush = alt.selection(type='interval', resolve='global', \n",
    "                          on=\"[mousedown[event.shiftKey], window:mouseup] > \\\n",
    "                          window:mousemove!\", zoom='False',\n",
    "                          translate=\"[mousedown[event.shiftKey], window:mouseup] > \\\n",
    "                          window:mousemove!\")\n",
    "\n",
    "pan = alt.selection(type='interval', bind='scales',\n",
    "                        on=\"[mousedown[!event.shiftKey], window:mouseup] > \\\n",
    "                        window:mousemove!\",\n",
    "                        translate=\"[mousedown[!event.shiftKey], window:mouseup] > \\\n",
    "                        window:mousemove!\")\n",
    "\n",
    "planets = alt.Chart(data).mark_point(clip=True, filled=True, size=28).encode(\n",
    "    x=alt.X('pl_bmasse:Q', scale=alt.Scale(domain=(0, 20)),\n",
    "           axis=alt.Axis(title='Mass (Earth Masses)')),\n",
    "    y=alt.Y('pl_rade:Q', scale=alt.Scale(domain=(0, 5)),\n",
    "           axis=alt.Axis(title='Radius (Earth Radii)')),\n",
    "    opacity=alt.Opacity('err_weight:Q', legend=None),\n",
    "    color=alt.condition(brush, alt.ColorValue('blue'), alt.ColorValue('gray'))\n",
    ").properties(\n",
    "    selection=brush+pan,\n",
    "    width=300,\n",
    "    height=300\n",
    ")\n",
    "\n",
    "\n",
    "stars = alt.Chart(data).mark_point(clip=True, filled=True, size=28).encode(\n",
    "    x=alt.X('st_teff:Q', scale=alt.Scale(domain=(12e3, 3e3)),\n",
    "           axis=alt.Axis(title='Effective Temperature (K)')),\n",
    "    y=alt.Y('st_abs_mag:Q', scale=alt.Scale(domain=(15, -5)),\n",
    "           axis=alt.Axis(title='Abs. G Magnitude')),\n",
    "    opacity=alt.condition(brush, alt.OpacityValue(1.), alt.OpacityValue(0.4)),\n",
    "    color=alt.condition(brush, alt.ColorValue('blue'), alt.ColorValue('gray'))\n",
    ").properties(\n",
    "    selection=brush+pan,\n",
    "    width=300,\n",
    "    height=300\n",
    ")"
   ]
  },
  {
   "cell_type": "code",
   "execution_count": null,
   "metadata": {},
   "outputs": [],
   "source": [
    "planets | stars"
   ]
  },
  {
   "cell_type": "markdown",
   "metadata": {},
   "source": [
    "#### Other ideas for improvement/extension:"
   ]
  },
  {
   "cell_type": "markdown",
   "metadata": {},
   "source": [
    "- implement [data linking in bokeh](https://bokeh.pydata.org/en/latest/docs/user_guide/interaction/linking.html)\n",
    "- implement [tooltips in altair](https://altair-viz.github.io/gallery/multiline_tooltip.html)\n",
    "- tidy up plot appearances in altair (particularly those error bars); investigate the [top-level chart configuration](https://altair-viz.github.io/user_guide/configuration.html) capabilities\n",
    "- [link a histogram/bar chart with a scatter plot](https://altair-viz.github.io/gallery/interactive_cross_highlight.html) to highlight planet hosts in the color-magnitude diagram for different selections of planet radius bin, or different stellar metallicity bin"
   ]
  }
 ],
 "metadata": {
  "kernelspec": {
   "display_name": "Python 3",
   "language": "python",
   "name": "python3"
  },
  "language_info": {
   "codemirror_mode": {
    "name": "ipython",
    "version": 3
   },
   "file_extension": ".py",
   "mimetype": "text/x-python",
   "name": "python",
   "nbconvert_exporter": "python",
   "pygments_lexer": "ipython3",
   "version": "3.6.0"
  }
 },
 "nbformat": 4,
 "nbformat_minor": 2
}
