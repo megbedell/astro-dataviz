{
 "cells": [
  {
   "cell_type": "markdown",
   "metadata": {},
   "source": [
    "## Matplotlib animations demo using Cepheids"
   ]
  },
  {
   "cell_type": "markdown",
   "metadata": {},
   "source": [
    "#### This demonstration shows how to make an animated figure with matplotlib. We'll use photometric variability data for a set of Cepheids from Gaia DR1."
   ]
  },
  {
   "cell_type": "code",
   "execution_count": null,
   "metadata": {},
   "outputs": [],
   "source": [
    "import numpy as np\n",
    "import matplotlib.pyplot as plt\n",
    "from matplotlib import animation\n",
    "from IPython.display import HTML"
   ]
  },
  {
   "cell_type": "markdown",
   "metadata": {},
   "source": [
    "^ The last line there is needed to make the animation render in the notebook."
   ]
  },
  {
   "cell_type": "code",
   "execution_count": null,
   "metadata": {},
   "outputs": [],
   "source": [
    "from get_data import get_cepheids\n",
    "table = get_cepheids()"
   ]
  },
  {
   "cell_type": "markdown",
   "metadata": {},
   "source": [
    "Based on Cepheid parameters from Gaia DR1, calculate the magnitudes at a given time. Documentation on the parameters can be found [here](https://gea.esac.esa.int/archive/documentation/GDR1/datamodel/Ch2/cepheid.html).\n",
    "\n",
    "Note that we don't have reference phases supplied, so I'm just making them up!"
   ]
  },
  {
   "cell_type": "code",
   "execution_count": null,
   "metadata": {},
   "outputs": [],
   "source": [
    "ref_epochs = table['epoch_g'] + 2455197.5\n",
    "phis = np.random.rand(len(table)) * 2. * np.pi\n",
    "A1 = table['peak_to_peak_g']/2."
   ]
  },
  {
   "cell_type": "code",
   "execution_count": null,
   "metadata": {},
   "outputs": [],
   "source": [
    "def delta_mags(epoch):\n",
    "    delta_t = epoch - ref_epochs\n",
    "    delta_mags = A1 * np.sin(2. * np.pi * delta_t/table['p1'] + phis) \\\n",
    "        + A1 * table['r21_g'] * np.sin(2. * np.pi * delta_t/table['p1'] \n",
    "                                       + phis * table['phi21_g'])\n",
    "    return delta_mags"
   ]
  },
  {
   "cell_type": "markdown",
   "metadata": {},
   "source": [
    "Now we make a function to feed to [matplotlib.animation.FuncAnimation](https://matplotlib.org/api/_as_gen/matplotlib.animation.FuncAnimation.html). It takes an epoch and an axis object, clears the axis, and replots the data using the magnitudes at the given epoch as sizes."
   ]
  },
  {
   "cell_type": "code",
   "execution_count": null,
   "metadata": {},
   "outputs": [],
   "source": [
    "mags = table['int_average_g']\n",
    "sizes = np.exp(mags-15.)\n",
    "\n",
    "def plot_cepheids(epoch, ax):\n",
    "    dmags = delta_mags(epoch)\n",
    "    size_factor = 10.**(dmags/2.5) * 20.\n",
    "    ax.cla()\n",
    "    ax.scatter(table['ra'], table['dec'], s=sizes+size_factor)\n",
    "    ax.set_xlabel('Right Ascension (degrees)', fontsize=16)\n",
    "    ax.set_ylabel('Declination (degrees)', fontsize=16)\n",
    "    ax.set_xlim([70,85])\n",
    "    ax.set_ylim([-68,-62])"
   ]
  },
  {
   "cell_type": "markdown",
   "metadata": {},
   "source": [
    "Generate some epochs and test it out:"
   ]
  },
  {
   "cell_type": "code",
   "execution_count": null,
   "metadata": {},
   "outputs": [],
   "source": [
    "epochs = np.linspace(0, 10, 100) + 2455197.5"
   ]
  },
  {
   "cell_type": "code",
   "execution_count": null,
   "metadata": {},
   "outputs": [],
   "source": [
    "fig = plt.figure(figsize=(8, 8))\n",
    "ax = plt.subplot()\n",
    "anim = animation.FuncAnimation(fig, plot_cepheids, epochs,\n",
    "                                fargs=(ax,), \n",
    "                                interval=50)\n",
    "plt.close(fig)\n",
    "HTML(anim.to_html5_video())"
   ]
  },
  {
   "cell_type": "markdown",
   "metadata": {},
   "source": [
    "To save this as a gif, we use imagemagick:"
   ]
  },
  {
   "cell_type": "code",
   "execution_count": null,
   "metadata": {},
   "outputs": [],
   "source": [
    "anim.save('cepheids.gif', writer='imagemagick')  "
   ]
  },
  {
   "cell_type": "markdown",
   "metadata": {},
   "source": [
    "#### Extending this:"
   ]
  },
  {
   "cell_type": "markdown",
   "metadata": {},
   "source": [
    "A few ideas:\n",
    "- add a title to the plot that shows the timestamp\n",
    "- make a full-sky animation for Gaia DR2 (this is more of a data wrangling challenge, as the data model changed)\n",
    "    - also note that Gaia source_ids change between DRs, so make sure you're getting the correct sky positions!\n",
    "- put the plot in a better sky projection\n",
    "- use astropy.coords to apply some exaggerated proper motions/parallaxes to the Cepheids too"
   ]
  },
  {
   "cell_type": "markdown",
   "metadata": {},
   "source": [
    "#### Further resources:\n",
    "\n",
    "You can also check out these tutorials:\n",
    "- [animations of nearby stars using Gaia DR2](https://gist.github.com/eteq/02a0065f15da3b3d8c2a9dea146a2a14) by Erik Tollerud\n",
    "- [magic triangle animation](https://jakevdp.github.io/blog/2013/05/28/a-simple-animation-the-magic-triangle/) by Jake VanderPlas\n",
    "\n",
    "And [this poorly-commented notebook](https://github.com/megbedell/gaia-kepler.fun/blob/master/notebooks/demo.ipynb) with the source code for an animation of the Kepler field by yours truly."
   ]
  }
 ],
 "metadata": {
  "kernelspec": {
   "display_name": "Python 3",
   "language": "python",
   "name": "python3"
  },
  "language_info": {
   "codemirror_mode": {
    "name": "ipython",
    "version": 3
   },
   "file_extension": ".py",
   "mimetype": "text/x-python",
   "name": "python",
   "nbconvert_exporter": "python",
   "pygments_lexer": "ipython3",
   "version": "3.6.0"
  }
 },
 "nbformat": 4,
 "nbformat_minor": 2
}
