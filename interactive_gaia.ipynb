{
 "cells": [
  {
   "cell_type": "markdown",
   "metadata": {},
   "source": [
    "## Interactive plotting for large datasets using Gaia"
   ]
  },
  {
   "cell_type": "markdown",
   "metadata": {},
   "source": [
    "#### This (currently unfinished) demo will show you how to use vaex or holoviews to render very large datasets interactively."
   ]
  },
  {
   "cell_type": "code",
   "execution_count": null,
   "metadata": {},
   "outputs": [],
   "source": [
    "gaia_file = 'rv-sort-by-source_id.hdf5' "
   ]
  },
  {
   "cell_type": "markdown",
   "metadata": {},
   "source": [
    "### vaex:"
   ]
  },
  {
   "cell_type": "code",
   "execution_count": null,
   "metadata": {},
   "outputs": [],
   "source": [
    "import vaex\n",
    "ds = vaex.open(gaia_file)"
   ]
  },
  {
   "cell_type": "code",
   "execution_count": null,
   "metadata": {},
   "outputs": [],
   "source": [
    "len(ds)"
   ]
  },
  {
   "cell_type": "code",
   "execution_count": null,
   "metadata": {},
   "outputs": [],
   "source": [
    "ds.plot(\"ra\",\"dec\", f=\"log1p\")"
   ]
  },
  {
   "cell_type": "code",
   "execution_count": null,
   "metadata": {},
   "outputs": [],
   "source": [
    "import vaex.jupyter\n",
    "ds.select(ds['radial_velocity' != 0])\n",
    "@vaex.jupyter.interactive_selection(ds)\n",
    "def plot():\n",
    "    print(\"Mean RV for the selection is:\", ds.mean(ds['radial_velocity'], selection=True))\n",
    "    ds.plot(\"ra\", \"dec\", what=np.log(vaex.stat.count()+1), selection=[None, True])\n",
    "    plt.show()"
   ]
  },
  {
   "cell_type": "markdown",
   "metadata": {},
   "source": [
    "###### Here are some resources that may be of use:\n",
    "- [Vaex tutorial](https://github.com/maartenbreddels/vaex/blob/master/docs/source/tutorial.ipynb)\n",
    "- [Vaex demo notebooks](https://github.com/maartenbreddels/vaex/tree/master/examples)\n",
    "- [a little bit of Vaex stuff from Lauren Anderson](https://github.com/andersdot/gaiaDR2/blob/master/playVaex.ipynb)"
   ]
  },
  {
   "cell_type": "markdown",
   "metadata": {},
   "source": [
    "### holoviews/datashader:"
   ]
  },
  {
   "cell_type": "code",
   "execution_count": null,
   "metadata": {},
   "outputs": [],
   "source": [
    "import holoviews as hv\n",
    "hv.notebook_extension('bokeh')"
   ]
  },
  {
   "cell_type": "code",
   "execution_count": null,
   "metadata": {},
   "outputs": [],
   "source": [
    "import pandas as pd\n",
    "import h5py\n",
    "from astropy.table import Table\n",
    "\n",
    "data = Table()\n",
    "with h5py.File(gaia_file) as f:\n",
    "    #columns = list(f['table/columns'])\n",
    "    columns = ['ra', 'dec', 'pmra', 'pmdec', 'parallax', 'radial_velocity', 'radial_velocity_error']\n",
    "    for c in columns: data[c] = f['table/columns/{0}/data'.format(c)][:]"
   ]
  },
  {
   "cell_type": "code",
   "execution_count": null,
   "metadata": {},
   "outputs": [],
   "source": [
    "ds = hv.Dataset(data.to_pandas())"
   ]
  },
  {
   "cell_type": "code",
   "execution_count": null,
   "metadata": {},
   "outputs": [],
   "source": [
    "len(ds)"
   ]
  },
  {
   "cell_type": "code",
   "execution_count": null,
   "metadata": {},
   "outputs": [],
   "source": [
    "%%opts RGB [width=800, height=500]\n",
    "from holoviews.operation.datashader import datashade, dynspread\n",
    "import datashader\n",
    "\n",
    "datashade(hv.Points(ds, kdims=['ra', 'dec'], vdims=['parallax']), aggregator=datashader.mean('parallax'))"
   ]
  },
  {
   "cell_type": "markdown",
   "metadata": {},
   "source": [
    "###### Here are some resources that may be of use:\n",
    "- [OpenSky example with datashader](https://anaconda.org/jbednar/opensky/notebook)\n",
    "- get holoviews example ipython notebooks:\n",
    "```\n",
    "holoviews --install-examples\n",
    "cd holoviews-examples\n",
    "```\n",
    "- [Gaia example from Tim Morton](https://github.com/timothydmorton/gaia-viz-demo/blob/master/demo.ipynb)"
   ]
  }
 ],
 "metadata": {
  "kernelspec": {
   "display_name": "Python 3",
   "language": "python",
   "name": "python3"
  },
  "language_info": {
   "codemirror_mode": {
    "name": "ipython",
    "version": 3
   },
   "file_extension": ".py",
   "mimetype": "text/x-python",
   "name": "python",
   "nbconvert_exporter": "python",
   "pygments_lexer": "ipython3",
   "version": "3.6.0"
  }
 },
 "nbformat": 4,
 "nbformat_minor": 2
}
