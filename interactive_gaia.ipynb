{
 "cells": [
  {
   "cell_type": "markdown",
   "metadata": {},
   "source": [
    "## Interactive plotting for large datasets using Gaia"
   ]
  },
  {
   "cell_type": "markdown",
   "metadata": {},
   "source": [
    "#### This demo will show you how to use vaex or holoviews to render very large datasets interactively."
   ]
  },
  {
   "cell_type": "code",
   "execution_count": null,
   "metadata": {},
   "outputs": [
    {
     "name": "stderr",
     "output_type": "stream",
     "text": [
      "WARNING: non-ASCII characters are present in the FITS file header and have been replaced by \"?\" characters [astropy.io.fits.util]\n",
      "WARNING: Unexpected bytes trailing END keyword: '\\xc0\\xb0\\xc2\\xcd$\\xcdJD\\xc0\\xb7\\xf2\\xd8\\xc1wBD\\xc0a|7\\x0b\\xe72D\\xc0_]\\xd9\\xbfr8D\\xc0\\xb5\\xde\\xcf\\x05\\xf5*D\\xc0C\\x006]rCD\\xc0\\xe1/\\x82\\xfa\\xad;D\\xc0\\xe0\\xd1\\xa7\\x8a\\xb7.D\\xc0\\xf1\\xb6dZ\\x164D\\xc0+'; these bytes will be replaced with spaces on write. [astropy.io.fits.header]\n"
     ]
    }
   ],
   "source": [
    "from astropy.io import fits \n",
    "from astropy.table import Table \n",
    "gaia_file = 'rv-sort-by-source_id.hdf5' \n",
    "hdu = fits.open(gaia_file) \n",
    "data = Table(hdu[1].data) "
   ]
  },
  {
   "cell_type": "markdown",
   "metadata": {},
   "source": [
    "#### vaex:"
   ]
  },
  {
   "cell_type": "code",
   "execution_count": null,
   "metadata": {},
   "outputs": [],
   "source": [
    "import vaex\n",
    "ds = vaex.from_astropy_table(data)"
   ]
  },
  {
   "cell_type": "markdown",
   "metadata": {},
   "source": [
    "#### holoviews:"
   ]
  },
  {
   "cell_type": "code",
   "execution_count": null,
   "metadata": {},
   "outputs": [],
   "source": [
    "import holoviews as hv\n",
    "hv.notebook_extension('bokeh')"
   ]
  },
  {
   "cell_type": "code",
   "execution_count": null,
   "metadata": {},
   "outputs": [],
   "source": [
    "df = data.to_pandas()\n",
    "ds = hv.Dataset(df)"
   ]
  },
  {
   "cell_type": "code",
   "execution_count": null,
   "metadata": {},
   "outputs": [],
   "source": [
    "len(ds)"
   ]
  },
  {
   "cell_type": "code",
   "execution_count": null,
   "metadata": {},
   "outputs": [],
   "source": [
    "%%opts RGB [width=800, height=500]\n",
    "from holoviews.operation.datashader import datashade, dynspread\n",
    "import datashader\n",
    "\n",
    "datashade(hv.Points(ds, kdims=['ra', 'dec'], vdims=['parallax']), aggregator=datashader.mean('parallax'))"
   ]
  },
  {
   "cell_type": "code",
   "execution_count": null,
   "metadata": {},
   "outputs": [],
   "source": []
  }
 ],
 "metadata": {
  "kernelspec": {
   "display_name": "Python 3",
   "language": "python",
   "name": "python3"
  },
  "language_info": {
   "codemirror_mode": {
    "name": "ipython",
    "version": 3
   },
   "file_extension": ".py",
   "mimetype": "text/x-python",
   "name": "python",
   "nbconvert_exporter": "python",
   "pygments_lexer": "ipython3",
   "version": "3.6.0"
  }
 },
 "nbformat": 4,
 "nbformat_minor": 2
}
